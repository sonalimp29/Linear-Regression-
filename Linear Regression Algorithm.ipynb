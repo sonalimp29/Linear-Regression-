{
 "cells": [
  {
   "cell_type": "code",
   "execution_count": 2,
   "metadata": {},
   "outputs": [],
   "source": [
    "import pandas as pd\n",
    "import numpy as np\n",
    "import sklearn\n",
    "from sklearn import linear_model\n",
    "from sklearn.utils import shuffle\n",
    "\n",
    "import matplotlib.pyplot as plt\n",
    "import pickle\n",
    "from matplotlib import style"
   ]
  },
  {
   "cell_type": "code",
   "execution_count": 3,
   "metadata": {},
   "outputs": [],
   "source": [
    "data = pd.read_csv(\"student-mat.csv\", sep = \";\")\n",
    "data = data[[\"G1\", \"G2\", \"G3\", \"studytime\", \"failures\", \"absences\"]]\n",
    "predict = \"G3\"\n",
    "\n",
    "X = np.array(data.drop([predict], 1))\n",
    "y = np.array(data[predict])"
   ]
  },
  {
   "cell_type": "code",
   "execution_count": 4,
   "metadata": {},
   "outputs": [
    {
     "name": "stdout",
     "output_type": "stream",
     "text": [
      "0.7579830333957809\n",
      "coefficient: \n",
      " [ 0.1348629   0.98416756 -0.20139634 -0.29482557  0.03102533]\n",
      "intercept: \n",
      " -1.2316313677635424\n",
      "0.7579830333957809\n",
      "coefficient: \n",
      " [ 0.1348629   0.98416756 -0.20139634 -0.29482557  0.03102533]\n",
      "intercept: \n",
      " -1.2316313677635424\n",
      "7.317819624726868 [8 8 2 0 0] 0\n",
      "8.623002070690742 [9 9 2 0 6] 10\n",
      "8.49441796804071 [10  9  3  0  4] 9\n",
      "8.432367305847444 [10  9  3  0  2] 9\n",
      "9.261054969296689 [10 10  2  1  0] 0\n",
      "15.21308350260871 [15 15  2  0  2] 16\n",
      "10.742887223639384 [13 11  2  1  3] 11\n",
      "10.991443112029762 [13 11  3  0  8] 11\n",
      "17.579728524026912 [16 17  1  0  4] 18\n",
      "3.7073363403034154 [6 5 1 2 0] 0\n",
      "13.88189512548567 [13 14  3  0  6] 14\n",
      "14.357500046709019 [14 14  1  0  4] 14\n",
      "11.006687466741099 [13 11  2  0  2] 11\n",
      "5.697377992355166 [8 7 2 3 8] 8\n",
      "15.798941156839687 [14 16  3  0  0] 16\n",
      "12.634280563451554 [13 13  4  0  4] 12\n",
      "13.21246365616577 [12 13  2  0 14] 12\n",
      "9.690743444329392 [11 10  2  0  0] 10\n",
      "10.348200955925666 [13 10  2  1 22] 11\n",
      "9.632099544209408 [ 7 10  2  1 25] 11\n",
      "19.159302931979646 [18 18  1  1 24] 18\n",
      "6.333652066177143 [8 7 2 0 0] 8\n",
      "5.9079404673667915 [ 8  6  2  0 18] 7\n",
      "13.094641129963568 [14 13  3  0  8] 14\n",
      "15.642418738024093 [16 15  1  0  5] 16\n",
      "12.399709631525653 [10 13  2  1  6] 13\n",
      "13.499919116564435 [15 14  3  2  4] 15\n",
      "7.623236917812358 [ 9  8  2  1 15] 8\n",
      "12.373920574898234 [14 12  2  0 10] 11\n",
      "10.989647092108939 [10 11  1  0  8] 10\n",
      "5.903963591144439 [7 7 2 1 0] 0\n",
      "7.763625120625335 [7 9 2 2 6] 8\n",
      "8.498900746304214 [9 9 2 0 2] 10\n",
      "12.130200704388683 [13 12  1  0  0] 12\n",
      "12.119439127940852 [12 12  1  0  4] 13\n",
      "-1.6431899274779085 [5 0 1 3 0] 0\n",
      "15.21308350260871 [15 15  2  0  2] 14\n",
      "13.435383150352557 [14 13  1  0  6] 13\n",
      "15.016169939581088 [14 15  2  0  0] 16\n",
      "10.664149426431287 [10 11  2  0  4] 9\n"
     ]
    }
   ],
   "source": [
    "x_train, x_test, y_train, y_test = sklearn.model_selection.train_test_split(X, y, test_size = 0.1)\n",
    "\n",
    "linear = linear_model.LinearRegression()\n",
    "linear.fit(x_train, y_train)\n",
    "accuracy = linear.score(x_test, y_test)\n",
    "\n",
    "print(accuracy)\n",
    "print('coefficient: \\n', linear.coef_)\n",
    "print('intercept: \\n', linear.intercept_)\n",
    "\n",
    "linear = linear_model.LinearRegression()\n",
    "linear.fit(x_train, y_train)\n",
    "accuracy = linear.score(x_test, y_test)\n",
    "print(accuracy)\n",
    "print('coefficient: \\n', linear.coef_)\n",
    "print('intercept: \\n', linear.intercept_)\n",
    "\n",
    "with open(\"studentmodel.pickle\", \"wb\") as f:\n",
    "    pickle.dump(linear, f)\n",
    "    \n",
    "pickle_in = open(\"studentmodel.pickle\", \"rb\")\n",
    "linear = pickle.load(pickle_in)\n",
    "\n",
    "predictions = linear.predict(x_test)\n",
    "\n",
    "for x in range(len(predictions)):\n",
    "    print(predictions[x], x_test[x], y_test[x])\n",
    "    "
   ]
  },
  {
   "cell_type": "code",
   "execution_count": 6,
   "metadata": {},
   "outputs": [
    {
     "data": {
      "image/png": "[encoded data removed]",
      "text/plain": [
       "<Figure size 432x288 with 1 Axes>"
      ]
     },
     "metadata": {},
     "output_type": "display_data"
    }
   ],
   "source": [
    "p = 'absences'\n",
    "style.use(\"ggplot\")\n",
    "plt.scatter(data[p], data[\"G3\"])\n",
    "plt.xlabel(p)\n",
    "plt.ylabel(\"Final Grade G3\")\n",
    "plt.show()"
   ]
  },
  {
   "cell_type": "code",
   "execution_count": null,
   "metadata": {},
   "outputs": [],
   "source": []
  }
 ],
 "metadata": {
  "kernelspec": {
   "display_name": "Python 3",
   "language": "python",
   "name": "python3"
  },
  "language_info": {
   "codemirror_mode": {
    "name": "ipython",
    "version": 3
   },
   "file_extension": ".py",
   "mimetype": "text/x-python",
   "name": "python",
   "nbconvert_exporter": "python",
   "pygments_lexer": "ipython3",
   "version": "3.7.4"
  }
 },
 "nbformat": 4,
 "nbformat_minor": 2
}
